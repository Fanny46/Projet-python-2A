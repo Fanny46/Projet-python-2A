{
 "cells": [
  {
   "cell_type": "code",
   "execution_count": 1,
   "id": "718c36ff-0ec2-4f21-b604-f42c7ad1378a",
   "metadata": {},
   "outputs": [],
   "source": [
    "\"\"\"Librairies nécessaires\"\"\"\n",
    "import pandas as pd\n",
    "import numpy as np\n",
    "import geopandas as gpd\n",
    "import matplotlib.pyplot as plt"
   ]
  },
  {
   "cell_type": "code",
   "execution_count": 2,
   "id": "0c7d3bb4-a81f-4494-b698-2ba8a06ca791",
   "metadata": {},
   "outputs": [],
   "source": [
    "\"\"\"Changement de directory pour lire les fichiers\"\"\"\n",
    "import os\n",
    "os.getcwd() #trouver le directory actuel \n",
    "os.chdir('/home/onyxia/work/Projet-Stat-App-2A')"
   ]
  },
  {
   "cell_type": "code",
   "execution_count": 3,
   "id": "d32c8c76-ff18-4680-a442-9f5fa42abf01",
   "metadata": {},
   "outputs": [],
   "source": [
    "\"\"\"Emplacement des fichiers dvf\"\"\"\n",
    "\n",
    "emplacement_dvf_base = '1.2) Données concat/dvf_concat_2021_to_2023.geojson'\n",
    "\n",
    "emplacement_dvf_parcs = '3.1) Données enrichies/dvf_concat_2021_to_2023_avec_espaces_verts.geojson'\n",
    "emplacement_dvf_lycees = '3.1) Données enrichies/dvf_concat_2021_to_2023_avec_lycees.geojson'\n",
    "emplacement_dvf_sites_tour = '3.1) Données enrichies/dvf_concat_2021_to_2023_avec_sites_tour.geojson'\n",
    "emplacement_dvf_transports = '3.1) Données enrichies/dvf_concat_2021_to_2023_avec_transports.geojson'\n",
    "emplacement_dvf_log_sociaux = '3.1) Données enrichies/dvf_concat_2021_to_2023_avec_log_sociaux.geojson'\n",
    "emplacement_dvf_voies_eau = '3.1) Données enrichies/dvf_concat_2021_to_2023_avec_voie_eau.geojson'"
   ]
  },
  {
   "cell_type": "code",
   "execution_count": 4,
   "id": "01ac41f0-0c50-4e0c-8453-8997cf10220e",
   "metadata": {},
   "outputs": [
    {
     "name": "stderr",
     "output_type": "stream",
     "text": [
      "ERROR 1: PROJ: proj_create_from_database: Open of /opt/mamba/share/proj failed\n"
     ]
    }
   ],
   "source": [
    "\"\"\"Lecture des fichiers\"\"\"\n",
    "\n",
    "dvf_base = gpd.read_file(emplacement_dvf_base)\n",
    "\n",
    "dvf_avec_lycees = gpd.read_file(emplacement_dvf_lycees)\n",
    "dvf_avec_parcs = gpd.read_file(emplacement_dvf_parcs)\n",
    "dvf_avec_sites_tour = gpd.read_file(emplacement_dvf_sites_tour)\n",
    "dvf_avec_transports = gpd.read_file(emplacement_dvf_transports)\n",
    "dvf_avec_log_sociaux = gpd.read_file(emplacement_dvf_log_sociaux)\n",
    "dvf_avec_voies_eau = gpd.read_file(emplacement_dvf_voies_eau)"
   ]
  },
  {
   "cell_type": "code",
   "execution_count": 13,
   "id": "24d6f923-f03a-42cc-9558-88558779efcb",
   "metadata": {},
   "outputs": [
    {
     "name": "stdout",
     "output_type": "stream",
     "text": [
      "Tous les GeoDataFrames ont le même nombre de lignes.\n"
     ]
    }
   ],
   "source": [
    "\"\"\"vérification des dimensions des fichiers\"\"\"\n",
    "\n",
    "num_rows_base = dvf_base.shape[0]\n",
    "\n",
    "# Utilisation de l'instruction assert pour vérifier que tous les GeoDataFrames ont le même nombre de lignes\n",
    "assert all(df.shape[0] == num_rows_base for df in [dvf_avec_lycees, dvf_avec_parcs, dvf_avec_sites_tour, dvf_avec_transports, dvf_avec_log_sociaux, dvf_avec_voies_eau]), \"Les GeoDataFrames n'ont pas le même nombre de lignes.\"\n",
    "\n",
    "# Si l'instruction assert réussit, cela signifie que tous les GeoDataFrames ont le même nombre de lignes\n",
    "print(\"Tous les GeoDataFrames ont le même nombre de lignes.\")"
   ]
  },
  {
   "cell_type": "code",
   "execution_count": 14,
   "id": "bf5e1270-968d-477c-aff9-1b6529747443",
   "metadata": {},
   "outputs": [],
   "source": [
    "# Création d'un DataFrame final en copiant dvf_base\n",
    "dvf_enrichi = dvf_base.copy()\n",
    "\n",
    "# Liste des GeoDataFrames à ajouter\n",
    "dataframes_to_add = [\n",
    "    dvf_avec_lycees,\n",
    "    dvf_avec_parcs,\n",
    "    dvf_avec_sites_tour,\n",
    "    dvf_avec_transports,\n",
    "    dvf_avec_log_sociaux,\n",
    "    dvf_avec_voies_eau\n",
    "]\n",
    "\n",
    "# Ajout des colonnes des autres GeoDataFrames à dvf_enrichi\n",
    "for df_to_add in dataframes_to_add:\n",
    "    # Colonnes à ajouter (qui ne sont pas déjà présentes dans dvf_enrichi)\n",
    "    columns_to_add = df_to_add.columns.difference(dvf_enrichi.columns)\n",
    "    \n",
    "    # Ajout des colonnes\n",
    "    dvf_enrichi = pd.concat([dvf_enrichi, df_to_add[columns_to_add]], axis=1)\n"
   ]
  },
  {
   "cell_type": "code",
   "execution_count": 15,
   "id": "614dd27f-22a6-40a6-ba47-235ef57a9661",
   "metadata": {},
   "outputs": [
    {
     "name": "stdout",
     "output_type": "stream",
     "text": [
      "(59417, 33)\n",
      "(59417, 21)\n"
     ]
    }
   ],
   "source": [
    "#vérification de la taille du dataframe\n",
    "print(dvf_enrichi.shape)\n",
    "print(dvf_avec_log_sociaux.shape)"
   ]
  },
  {
   "cell_type": "code",
   "execution_count": 16,
   "id": "b92fb292-6533-4d93-b6ea-4a66105b05e9",
   "metadata": {},
   "outputs": [
    {
     "data": {
      "text/plain": [
       "id_mutation                  0\n",
       "date_mutation                0\n",
       "prix                         0\n",
       "log_prix                     0\n",
       "nombre_pieces_principales    0\n",
       "surface_reelle_bati          0\n",
       "surface_carrez               0\n",
       "nombre_dependances           0\n",
       "prix_au_m2_carrez            0\n",
       "prix_au_m2_reel_bati         0\n",
       "adresse_numero               7\n",
       "adresse_nom_voie             0\n",
       "code_postal                  0\n",
       "code_commune                 0\n",
       "nom_arrondissement           0\n",
       "num_arrondissement           0\n",
       "nom_quartier                 0\n",
       "longitude                    0\n",
       "latitude                     0\n",
       "geometry                     0\n",
       "dist_min_lycee               0\n",
       "nom_lycee                    0\n",
       "dist_min_grand_parc          0\n",
       "dist_min_square              0\n",
       "nom_grand_parc               0\n",
       "nom_square                   0\n",
       "dist_min_site_tour           0\n",
       "nom_site_tour                0\n",
       "dist_min_stat                0\n",
       "nom_stat                     0\n",
       "num_ligne                    0\n",
       "dist_min_log_social          0\n",
       "dist_min_voie_eau            0\n",
       "dtype: int64"
      ]
     },
     "execution_count": 16,
     "metadata": {},
     "output_type": "execute_result"
    }
   ],
   "source": [
    "dvf_enrichi.isnull().sum()"
   ]
  },
  {
   "cell_type": "code",
   "execution_count": 17,
   "id": "1b50d4e9-1af3-4db1-b70c-11e9ae2cea47",
   "metadata": {},
   "outputs": [
    {
     "name": "stdout",
     "output_type": "stream",
     "text": [
      "Export GeoJSON réussi.\n",
      "Export CSV réussi.\n"
     ]
    }
   ],
   "source": [
    "\"\"\"Exportation des données enrichies concaténées : dvf_enrichi\"\"\"\n",
    "\n",
    "outer_path = '3.1) Données enrichies/'\n",
    "outer_name = 'dvf_enrichi_2021_to_2023.csv'\n",
    "\n",
    "dvf_enrichi.to_csv(outer_path+outer_name, index=False)\n",
    "print(\"Export CSV réussi.\")"
   ]
  }
 ],
 "metadata": {
  "kernelspec": {
   "display_name": "Python 3 (ipykernel)",
   "language": "python",
   "name": "python3"
  },
  "language_info": {
   "codemirror_mode": {
    "name": "ipython",
    "version": 3
   },
   "file_extension": ".py",
   "mimetype": "text/x-python",
   "name": "python",
   "nbconvert_exporter": "python",
   "pygments_lexer": "ipython3",
   "version": "3.10.13"
  }
 },
 "nbformat": 4,
 "nbformat_minor": 5
}
