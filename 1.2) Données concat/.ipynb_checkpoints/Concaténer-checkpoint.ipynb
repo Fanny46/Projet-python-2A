{
 "cells": [
  {
   "cell_type": "code",
   "execution_count": 10,
   "id": "1ddac710-9027-4a40-82aa-d34cb9b34771",
   "metadata": {},
   "outputs": [],
   "source": [
    "\"\"\"Librairies nécessaires\"\"\"\n",
    "import pandas as pd\n",
    "import numpy as np\n",
    "import geopandas as gpd\n",
    "import matplotlib.pyplot as plt"
   ]
  },
  {
   "cell_type": "code",
   "execution_count": 11,
   "id": "53a4e3ac-aa47-4857-a5fb-9dd17c9d7afc",
   "metadata": {},
   "outputs": [],
   "source": [
    "\"\"\"Changement de directory pour lire les fichiers\"\"\"\n",
    "import os\n",
    "os.getcwd() #trouver le directory actuel \n",
    "os.chdir('/home/onyxia/work/Projet-python-2A')"
   ]
  },
  {
   "cell_type": "code",
   "execution_count": 12,
   "id": "7d5c19d5-a68c-421f-a956-eb66098d86dc",
   "metadata": {},
   "outputs": [],
   "source": [
    "#lecture des fichiers\n",
    "emplacement_2023 = '1.1) Données clean/DVF_75_2023_clean.csv'\n",
    "emplacement_2022 = '1.1) Données clean/DVF_75_2022_clean.csv'\n",
    "emplacement_2021 = '1.1) Données clean/DVF_75_2021_clean.csv'\n",
    "emplacement_2020 = '1.1) Données clean/DVF_75_2020_clean.csv'\n",
    "emplacement_2019 = '1.1) Données clean/DVF_75_2019_clean.csv'\n",
    "emplacement_2018 = '1.1) Données clean/DVF_75_2018_clean.csv'\n",
    "\n",
    "dvf_2023 = pd.read_csv(emplacement_2023, low_memory=False, index_col=0)\n",
    "dvf_2022 = pd.read_csv(emplacement_2022, low_memory=False, index_col=0)\n",
    "dvf_2021 = pd.read_csv(emplacement_2021, low_memory=False, index_col=0)\n",
    "dvf_2020 = pd.read_csv(emplacement_2020, low_memory=False, index_col=0)\n",
    "dvf_2019 = pd.read_csv(emplacement_2019, low_memory=False, index_col=0)\n",
    "dvf_2018 = pd.read_csv(emplacement_2018, low_memory=False, index_col=0)"
   ]
  },
  {
   "cell_type": "code",
   "execution_count": 13,
   "id": "5a2080b3-7c3c-4b64-9db3-0608ba390c57",
   "metadata": {},
   "outputs": [
    {
     "data": {
      "text/plain": [
       "id_mutation                      0\n",
       "date_mutation                    0\n",
       "prix                             0\n",
       "type_local                       0\n",
       "nombre_dependances               0\n",
       "surface_reelle_bati              0\n",
       "surface_carrez               36836\n",
       "nombre_pieces_principales        0\n",
       "prix_au_m2_carrez            36836\n",
       "prix_au_m2_reel                  0\n",
       "adresse_numero                  11\n",
       "adresse_nom_voie                 0\n",
       "adresse_code_voie                0\n",
       "code_postal                      2\n",
       "code_commune                     0\n",
       "nom_commune                      0\n",
       "code_departement                 0\n",
       "id_parcelle                      0\n",
       "longitude                        0\n",
       "latitude                         0\n",
       "dtype: int64"
      ]
     },
     "execution_count": 13,
     "metadata": {},
     "output_type": "execute_result"
    }
   ],
   "source": [
    "\"\"\"CONCATENATION\"\"\"\n",
    "\n",
    "dvf_concat = pd.concat([dvf_2018, dvf_2019, dvf_2020, dvf_2021, dvf_2022, dvf_2023], ignore_index=True)\n",
    "\n",
    "resume_valeurs_manquantes = dvf_concat.isna().sum()\n",
    "resume_valeurs_manquantes"
   ]
  },
  {
   "cell_type": "code",
   "execution_count": 14,
   "id": "e0fc768e-1964-4dde-a005-aee832751b1a",
   "metadata": {},
   "outputs": [],
   "source": [
    "#supprimer colonnes inutiles\n",
    "liste_colonnes_a_supprimer = ['type_local', 'adresse_code_voie', 'code_departement', 'id_parcelle']\n",
    "dvf_concat = dvf_concat.drop(columns=liste_colonnes_a_supprimer)"
   ]
  },
  {
   "cell_type": "code",
   "execution_count": 15,
   "id": "90357b0e-5431-46db-ab22-39c3ea0f57fe",
   "metadata": {},
   "outputs": [],
   "source": [
    "#créer le log du prix\n",
    "dvf_concat['log_prix'] = np.log(dvf_concat['prix'])"
   ]
  },
  {
   "cell_type": "code",
   "execution_count": 16,
   "id": "ca002165-9ac5-43a2-ab87-e1766afc6ab9",
   "metadata": {},
   "outputs": [],
   "source": [
    "#conversion en geodataframe\n",
    "dvf_concat = gpd.GeoDataFrame(\n",
    "    dvf_concat, geometry=gpd.points_from_xy(dvf_concat.longitude, dvf_concat.latitude), crs=\"WGS84\"\n",
    "        )"
   ]
  },
  {
   "cell_type": "code",
   "execution_count": 17,
   "id": "e9ed8cdc-45ed-43fd-ae8c-6cfd9e6555b4",
   "metadata": {},
   "outputs": [],
   "source": [
    "#ajout du num d'arrondissement et du code postal\n",
    "dvf_concat['num_arrondissement'] = dvf_concat['code_postal'].astype(str).str[-4:-2]\n",
    "dvf_concat['code_postal'] = dvf_concat['code_postal'].astype(str).apply(lambda x: x.rstrip('.0'))"
   ]
  },
  {
   "cell_type": "code",
   "execution_count": 18,
   "id": "115d85cd-6125-40e7-8da5-d88fb6950505",
   "metadata": {},
   "outputs": [
    {
     "name": "stderr",
     "output_type": "stream",
     "text": [
      "ERROR 1: PROJ: proj_create_from_database: Open of /opt/mamba/share/proj failed\n",
      "/opt/mamba/lib/python3.10/site-packages/IPython/core/interactiveshell.py:3490: FutureWarning: The `op` parameter is deprecated and will be removed in a future release. Please use the `predicate` parameter instead.\n",
      "  if await self.run_code(code, result, async_=asy):\n"
     ]
    }
   ],
   "source": [
    "#ajout du quartier\n",
    "quartiers = gpd.read_file('2) Visualisation/Données_carto/paris_quartiers.geojson')\n",
    "dvf_concat = gpd.sjoin(dvf_concat, quartiers, how=\"left\", op=\"within\")"
   ]
  },
  {
   "cell_type": "code",
   "execution_count": 184,
   "id": "c02ab1a0-9a03-4055-a7f6-bb053a8003ec",
   "metadata": {},
   "outputs": [],
   "source": [
    "#sélection des variables\n",
    "var_finales = ['id_mutation', 'date_mutation', 'prix', 'log_prix', 'nombre_pieces_principales',\n",
    "        'surface_reelle_bati', 'surface_carrez', 'nombre_dependances',\n",
    "       'prix_au_m2_carrez', 'prix_au_m2_reel', 'adresse_numero',\n",
    "       'adresse_nom_voie', 'code_postal', 'code_commune', 'nom_commune',\n",
    "       'num_arrondissement', 'l_qu', 'longitude', 'latitude', 'geometry']\n",
    "\n",
    "dvf_concat = dvf_concat.loc[:,var_finales]\n",
    "dvf_concat = dvf_concat[var_finales]"
   ]
  },
  {
   "cell_type": "code",
   "execution_count": 185,
   "id": "be7cc935-575b-4814-b97a-237cd4819185",
   "metadata": {},
   "outputs": [],
   "source": [
    "#renommer quelques colonnes\n",
    "dvf_concat = dvf_concat.rename(columns={'nom_commune': 'nom_arrondissement', 'l_qu': 'nom_quartier', \n",
    "                                        'prix_au_m2_reel':'prix_au_m2_reel_bati'})"
   ]
  },
  {
   "cell_type": "code",
   "execution_count": 186,
   "id": "7d61e7eb-2ecb-460b-a90f-87528b1af09d",
   "metadata": {},
   "outputs": [
    {
     "data": {
      "text/html": [
       "<div>\n",
       "<style scoped>\n",
       "    .dataframe tbody tr th:only-of-type {\n",
       "        vertical-align: middle;\n",
       "    }\n",
       "\n",
       "    .dataframe tbody tr th {\n",
       "        vertical-align: top;\n",
       "    }\n",
       "\n",
       "    .dataframe thead th {\n",
       "        text-align: right;\n",
       "    }\n",
       "</style>\n",
       "<table border=\"1\" class=\"dataframe\">\n",
       "  <thead>\n",
       "    <tr style=\"text-align: right;\">\n",
       "      <th></th>\n",
       "      <th>id_mutation</th>\n",
       "      <th>date_mutation</th>\n",
       "      <th>prix</th>\n",
       "      <th>log_prix</th>\n",
       "      <th>nombre_pieces_principales</th>\n",
       "      <th>surface_reelle_bati</th>\n",
       "      <th>surface_carrez</th>\n",
       "      <th>nombre_dependances</th>\n",
       "      <th>prix_au_m2_carrez</th>\n",
       "      <th>prix_au_m2_reel_bati</th>\n",
       "      <th>adresse_numero</th>\n",
       "      <th>adresse_nom_voie</th>\n",
       "      <th>code_postal</th>\n",
       "      <th>code_commune</th>\n",
       "      <th>nom_arrondissement</th>\n",
       "      <th>num_arrondissement</th>\n",
       "      <th>nom_quartier</th>\n",
       "      <th>longitude</th>\n",
       "      <th>latitude</th>\n",
       "      <th>geometry</th>\n",
       "    </tr>\n",
       "  </thead>\n",
       "  <tbody>\n",
       "    <tr>\n",
       "      <th>0</th>\n",
       "      <td>2018-743587</td>\n",
       "      <td>2018-07-02</td>\n",
       "      <td>372000.0</td>\n",
       "      <td>12.826649</td>\n",
       "      <td>2.0</td>\n",
       "      <td>35.0</td>\n",
       "      <td>35.52</td>\n",
       "      <td>0.0</td>\n",
       "      <td>10473.0</td>\n",
       "      <td>10629.0</td>\n",
       "      <td>35.0</td>\n",
       "      <td>RUE NOTRE DAME DE NAZARETH</td>\n",
       "      <td>75003</td>\n",
       "      <td>75103</td>\n",
       "      <td>Paris 3e Arrondissement</td>\n",
       "      <td>03</td>\n",
       "      <td>Arts-et-Métiers</td>\n",
       "      <td>2.358136</td>\n",
       "      <td>48.867319</td>\n",
       "      <td>POINT (2.35814 48.86732)</td>\n",
       "    </tr>\n",
       "    <tr>\n",
       "      <th>1</th>\n",
       "      <td>2018-743589</td>\n",
       "      <td>2018-07-03</td>\n",
       "      <td>158000.0</td>\n",
       "      <td>11.970350</td>\n",
       "      <td>1.0</td>\n",
       "      <td>10.0</td>\n",
       "      <td>NaN</td>\n",
       "      <td>0.0</td>\n",
       "      <td>NaN</td>\n",
       "      <td>15800.0</td>\n",
       "      <td>56.0</td>\n",
       "      <td>RUE DE RICHELIEU</td>\n",
       "      <td>75001</td>\n",
       "      <td>75101</td>\n",
       "      <td>Paris 1er Arrondissement</td>\n",
       "      <td>01</td>\n",
       "      <td>Palais-Royal</td>\n",
       "      <td>2.337476</td>\n",
       "      <td>48.866524</td>\n",
       "      <td>POINT (2.33748 48.86652)</td>\n",
       "    </tr>\n",
       "    <tr>\n",
       "      <th>2</th>\n",
       "      <td>2018-743590</td>\n",
       "      <td>2018-07-02</td>\n",
       "      <td>737420.0</td>\n",
       "      <td>13.510913</td>\n",
       "      <td>3.0</td>\n",
       "      <td>62.0</td>\n",
       "      <td>NaN</td>\n",
       "      <td>0.0</td>\n",
       "      <td>NaN</td>\n",
       "      <td>11894.0</td>\n",
       "      <td>139.0</td>\n",
       "      <td>RUE DU TEMPLE</td>\n",
       "      <td>75003</td>\n",
       "      <td>75103</td>\n",
       "      <td>Paris 3e Arrondissement</td>\n",
       "      <td>03</td>\n",
       "      <td>Arts-et-Métiers</td>\n",
       "      <td>2.358390</td>\n",
       "      <td>48.863756</td>\n",
       "      <td>POINT (2.35839 48.86376)</td>\n",
       "    </tr>\n",
       "    <tr>\n",
       "      <th>3</th>\n",
       "      <td>2018-743594</td>\n",
       "      <td>2018-07-03</td>\n",
       "      <td>216500.0</td>\n",
       "      <td>12.285346</td>\n",
       "      <td>1.0</td>\n",
       "      <td>24.0</td>\n",
       "      <td>21.10</td>\n",
       "      <td>0.0</td>\n",
       "      <td>10261.0</td>\n",
       "      <td>9021.0</td>\n",
       "      <td>1.0</td>\n",
       "      <td>RUE JEAN MERMOZ</td>\n",
       "      <td>75008</td>\n",
       "      <td>75108</td>\n",
       "      <td>Paris 8e Arrondissement</td>\n",
       "      <td>08</td>\n",
       "      <td>Faubourg-du-Roule</td>\n",
       "      <td>2.310473</td>\n",
       "      <td>48.870036</td>\n",
       "      <td>POINT (2.31047 48.87004)</td>\n",
       "    </tr>\n",
       "    <tr>\n",
       "      <th>4</th>\n",
       "      <td>2018-743596</td>\n",
       "      <td>2018-07-05</td>\n",
       "      <td>347500.0</td>\n",
       "      <td>12.758520</td>\n",
       "      <td>2.0</td>\n",
       "      <td>35.0</td>\n",
       "      <td>31.95</td>\n",
       "      <td>1.0</td>\n",
       "      <td>10876.0</td>\n",
       "      <td>9929.0</td>\n",
       "      <td>219.0</td>\n",
       "      <td>RUE SAINT MARTIN</td>\n",
       "      <td>75003</td>\n",
       "      <td>75103</td>\n",
       "      <td>Paris 3e Arrondissement</td>\n",
       "      <td>03</td>\n",
       "      <td>Sainte-Avoie</td>\n",
       "      <td>2.352721</td>\n",
       "      <td>48.864270</td>\n",
       "      <td>POINT (2.35272 48.86427)</td>\n",
       "    </tr>\n",
       "  </tbody>\n",
       "</table>\n",
       "</div>"
      ],
      "text/plain": [
       "   id_mutation date_mutation      prix   log_prix  nombre_pieces_principales  \\\n",
       "0  2018-743587    2018-07-02  372000.0  12.826649                        2.0   \n",
       "1  2018-743589    2018-07-03  158000.0  11.970350                        1.0   \n",
       "2  2018-743590    2018-07-02  737420.0  13.510913                        3.0   \n",
       "3  2018-743594    2018-07-03  216500.0  12.285346                        1.0   \n",
       "4  2018-743596    2018-07-05  347500.0  12.758520                        2.0   \n",
       "\n",
       "   surface_reelle_bati  surface_carrez  nombre_dependances  prix_au_m2_carrez  \\\n",
       "0                 35.0           35.52                 0.0            10473.0   \n",
       "1                 10.0             NaN                 0.0                NaN   \n",
       "2                 62.0             NaN                 0.0                NaN   \n",
       "3                 24.0           21.10                 0.0            10261.0   \n",
       "4                 35.0           31.95                 1.0            10876.0   \n",
       "\n",
       "   prix_au_m2_reel_bati  adresse_numero            adresse_nom_voie  \\\n",
       "0               10629.0            35.0  RUE NOTRE DAME DE NAZARETH   \n",
       "1               15800.0            56.0            RUE DE RICHELIEU   \n",
       "2               11894.0           139.0               RUE DU TEMPLE   \n",
       "3                9021.0             1.0             RUE JEAN MERMOZ   \n",
       "4                9929.0           219.0            RUE SAINT MARTIN   \n",
       "\n",
       "  code_postal  code_commune        nom_arrondissement num_arrondissement  \\\n",
       "0       75003         75103   Paris 3e Arrondissement                 03   \n",
       "1       75001         75101  Paris 1er Arrondissement                 01   \n",
       "2       75003         75103   Paris 3e Arrondissement                 03   \n",
       "3       75008         75108   Paris 8e Arrondissement                 08   \n",
       "4       75003         75103   Paris 3e Arrondissement                 03   \n",
       "\n",
       "        nom_quartier  longitude   latitude                  geometry  \n",
       "0    Arts-et-Métiers   2.358136  48.867319  POINT (2.35814 48.86732)  \n",
       "1       Palais-Royal   2.337476  48.866524  POINT (2.33748 48.86652)  \n",
       "2    Arts-et-Métiers   2.358390  48.863756  POINT (2.35839 48.86376)  \n",
       "3  Faubourg-du-Roule   2.310473  48.870036  POINT (2.31047 48.87004)  \n",
       "4       Sainte-Avoie   2.352721  48.864270  POINT (2.35272 48.86427)  "
      ]
     },
     "execution_count": 186,
     "metadata": {},
     "output_type": "execute_result"
    }
   ],
   "source": [
    "dvf_concat.head()"
   ]
  },
  {
   "cell_type": "code",
   "execution_count": 187,
   "id": "802bb693-6a9a-47e4-93e4-d12d4d67657c",
   "metadata": {},
   "outputs": [],
   "source": [
    "#conversion en date_time\n",
    "dvf_concat['date_mutation'] = pd.to_datetime(dvf_concat['date_mutation'], errors='coerce')"
   ]
  },
  {
   "cell_type": "code",
   "execution_count": 189,
   "id": "47d37ff7-dd82-4419-b8f9-61050b846c45",
   "metadata": {},
   "outputs": [
    {
     "name": "stdout",
     "output_type": "stream",
     "text": [
      "1.0\n",
      "207400000.0\n",
      "(163281, 20)\n"
     ]
    }
   ],
   "source": [
    "#observer les valeurs extrêmes des prix\n",
    "print(dvf_concat['prix'].min())\n",
    "print(dvf_concat['prix'].max())\n",
    "print(dvf_concat.shape)"
   ]
  },
  {
   "cell_type": "code",
   "execution_count": 190,
   "id": "e89514a8-b197-4705-a309-6113ae53e6ce",
   "metadata": {},
   "outputs": [],
   "source": [
    "\"\"\"retirer les valeurs extrêmes des prix\"\"\"\n",
    "\n",
    "# On définit les seuls qu'on veut garder\n",
    "seuil_inferieur = 0.03  \n",
    "seuil_superieur = 0.99999\n",
    "\n",
    "# Calculer les quantiles\n",
    "quantile_inf = dvf_concat['prix'].quantile(seuil_inferieur)\n",
    "quantile_sup = dvf_concat['prix'].quantile(seuil_superieur)\n",
    "\n",
    "# Filtrer le DataFrame pour exclure les valeurs extrêmes\n",
    "dvf_concat = dvf_concat[(dvf_concat['prix'] >= quantile_inf) & (dvf_concat['prix'] <= quantile_sup)]\n"
   ]
  },
  {
   "cell_type": "code",
   "execution_count": 191,
   "id": "dcac190a-76ab-4f64-8bea-56de0fb6fd7e",
   "metadata": {},
   "outputs": [
    {
     "name": "stdout",
     "output_type": "stream",
     "text": [
      "45000.0\n",
      "32906558.0\n",
      "(158435, 20)\n"
     ]
    }
   ],
   "source": [
    "#observer les valeurs extrêmes après nettoyage\n",
    "print(dvf_concat['prix'].min())\n",
    "print(dvf_concat['prix'].max())\n",
    "print(dvf_concat.shape)"
   ]
  },
  {
   "cell_type": "code",
   "execution_count": null,
   "id": "6a59fb42-57f0-4a4a-a0a2-384330da9483",
   "metadata": {},
   "outputs": [],
   "source": [
    "\"\"\"Retirer les ventes de plus de 5 millions d'euros : on suppose que ce sont des ventes exceptionnelles, dont le mécanisme de fixation des prix est \n",
    "spécifique\"\"\"\n",
    "\n",
    "dvf_concat = dvf_concat.loc[dvf_concat['prix'] < 5e6]"
   ]
  },
  {
   "cell_type": "code",
   "execution_count": 193,
   "id": "14839451-96f0-4604-b33e-3513817653ab",
   "metadata": {},
   "outputs": [
    {
     "name": "stdout",
     "output_type": "stream",
     "text": [
      "1.0\n",
      "840.0\n",
      "(158435, 20)\n"
     ]
    }
   ],
   "source": [
    "#observer les valeurs extrêmes des surfaces\n",
    "print(dvf_concat['surface_reelle_bati'].min())\n",
    "print(dvf_concat['surface_reelle_bati'].max())\n",
    "print(dvf_concat.shape)"
   ]
  },
  {
   "cell_type": "code",
   "execution_count": 194,
   "id": "a86906a7-72f7-4fcc-bdfb-f3d5e212990c",
   "metadata": {},
   "outputs": [],
   "source": [
    "\"\"\"retirer les valeurs extrêmes des surfaces\"\"\"\n",
    "\n",
    "# On définit les seuls qu'on veut garder\n",
    "seuil_inferieur = 0.02  \n",
    "seuil_superieur = 1  # 95e percentile\n",
    "\n",
    "# Calculer les quantiles\n",
    "quantile_inf = dvf_concat['surface_reelle_bati'].quantile(seuil_inferieur)\n",
    "quantile_sup = dvf_concat['surface_reelle_bati'].quantile(seuil_superieur)\n",
    "\n",
    "# Filtrer le DataFrame pour exclure les valeurs extrêmes\n",
    "dvf_concat = dvf_concat[(dvf_concat['surface_reelle_bati'] >= quantile_inf) & (dvf_concat['surface_reelle_bati'] <= quantile_sup)]\n"
   ]
  },
  {
   "cell_type": "code",
   "execution_count": 195,
   "id": "7673ee38-6fcc-4b16-a9ae-1b10a39c1ae2",
   "metadata": {},
   "outputs": [
    {
     "name": "stdout",
     "output_type": "stream",
     "text": [
      "11.0\n",
      "840.0\n",
      "(155582, 20)\n"
     ]
    }
   ],
   "source": [
    "#observer les valeurs extrêmes des surfaces après nettoyage\n",
    "print(dvf_concat['surface_reelle_bati'].min())\n",
    "print(dvf_concat['surface_reelle_bati'].max())\n",
    "print(dvf_concat.shape)"
   ]
  },
  {
   "cell_type": "code",
   "execution_count": 201,
   "id": "cf48bf43-0c2b-4459-a6d5-97287f1a1538",
   "metadata": {},
   "outputs": [
    {
     "name": "stdout",
     "output_type": "stream",
     "text": [
      "4117.0\n",
      "36290.0\n",
      "(152314, 20)\n"
     ]
    }
   ],
   "source": [
    "#observer les valeurs extrêmes des prix au m^2 réel\n",
    "print(dvf_concat['prix_au_m2_reel_bati'].min())\n",
    "print(dvf_concat['prix_au_m2_reel_bati'].max())\n",
    "print(dvf_concat.shape)"
   ]
  },
  {
   "cell_type": "code",
   "execution_count": 197,
   "id": "cb495935-e097-4edb-8be6-4efbdac17737",
   "metadata": {},
   "outputs": [],
   "source": [
    "\"\"\"retirer les valeurs extrêmes des prix au m^2 reel\"\"\"\n",
    "\n",
    "# On définit les seuls qu'on veut garder\n",
    "seuil_inferieur = 0.02  \n",
    "seuil_superieur = 0.999  # 95e percentile\n",
    "\n",
    "# Calculer les quantiles\n",
    "quantile_inf = dvf_concat['prix_au_m2_reel_bati'].quantile(seuil_inferieur)\n",
    "quantile_sup = dvf_concat['prix_au_m2_reel_bati'].quantile(seuil_superieur)\n",
    "\n",
    "# Filtrer le DataFrame pour exclure les valeurs extrêmes\n",
    "dvf_concat = dvf_concat[(dvf_concat['prix_au_m2_reel_bati'] >= quantile_inf) & (dvf_concat['prix_au_m2_reel_bati'] <= quantile_sup)]\n"
   ]
  },
  {
   "cell_type": "code",
   "execution_count": 198,
   "id": "02bcd3a8-f3d0-4591-a78e-19eb315c08bc",
   "metadata": {},
   "outputs": [
    {
     "name": "stdout",
     "output_type": "stream",
     "text": [
      "4117.0\n",
      "36290.0\n",
      "(152314, 20)\n"
     ]
    }
   ],
   "source": [
    "#observer les valeurs extrêmes des prix au m^2 réel\n",
    "print(dvf_concat['prix_au_m2_reel_bati'].min())\n",
    "print(dvf_concat['prix_au_m2_reel_bati'].max())\n",
    "print(dvf_concat.shape)"
   ]
  },
  {
   "cell_type": "code",
   "execution_count": 203,
   "id": "a449cccb-75ff-4884-a9de-5a3cc082085f",
   "metadata": {},
   "outputs": [
    {
     "name": "stdout",
     "output_type": "stream",
     "text": [
      "73.0\n",
      "1041419.0\n",
      "(152314, 20)\n"
     ]
    }
   ],
   "source": [
    "#observer les valeurs extrêmes des prix au m^2 carrez\n",
    "print(dvf_concat['prix_au_m2_carrez'].min())\n",
    "print(dvf_concat['prix_au_m2_carrez'].max())\n",
    "print(dvf_concat.shape)"
   ]
  },
  {
   "cell_type": "code",
   "execution_count": 204,
   "id": "0775049b-5e34-4c81-80e2-7681323b53e4",
   "metadata": {},
   "outputs": [],
   "source": [
    "\"\"\"retirer les valeurs extrêmes des prix au m^2 carrez\"\"\"\n",
    "\n",
    "# On définit les seuls qu'on veut garder\n",
    "seuil_inferieur = 0.02  \n",
    "seuil_superieur = 0.999  # 95e percentile\n",
    "\n",
    "# Calculer les quantiles\n",
    "quantile_inf = dvf_concat['prix_au_m2_carrez'].quantile(seuil_inferieur)\n",
    "quantile_sup = dvf_concat['prix_au_m2_carrez'].quantile(seuil_superieur)\n",
    "\n",
    "# Filtrer le DataFrame pour exclure les valeurs extrêmes\n",
    "dvf_concat = dvf_concat[(dvf_concat['prix_au_m2_carrez'] >= quantile_inf) & (dvf_concat['prix_au_m2_carrez'] <= quantile_sup)]\n"
   ]
  },
  {
   "cell_type": "code",
   "execution_count": 205,
   "id": "65247760-ce92-4bbf-b2a1-af924b558d89",
   "metadata": {},
   "outputs": [
    {
     "name": "stdout",
     "output_type": "stream",
     "text": [
      "5853.0\n",
      "31474.0\n",
      "(119642, 20)\n"
     ]
    }
   ],
   "source": [
    "#observer les valeurs extrêmes des prix au m^2 carrez\n",
    "print(dvf_concat['prix_au_m2_carrez'].min())\n",
    "print(dvf_concat['prix_au_m2_carrez'].max())\n",
    "print(dvf_concat.shape)"
   ]
  },
  {
   "cell_type": "code",
   "execution_count": 212,
   "id": "4f2fbcb8-ef27-494f-be37-9b3e62dbf62f",
   "metadata": {},
   "outputs": [],
   "source": [
    "\"\"\"exporter les dataframe de chaque année et concaténer\"\"\"\n",
    "\n",
    "def create_and_export_dataframes(dvf_concat, start_year=2018, end_year=2023, export_path='1.2) Données concat/'):\n",
    "\n",
    "     # Créez exporter le df total\n",
    "    dvf_concat.to_file(export_path + 'dvf_concat_total.geojson', index=False, driver=\"GeoJSON\")\n",
    "\n",
    "    # Créez le dataframe pour les années de 2021 à 2023\n",
    "    df_2021_2023 = dvf_concat.loc[(dvf_concat['date_mutation'].dt.year >= 2021) & (dvf_concat['date_mutation'].dt.year <= 2023)]\n",
    "    df_2021_2023.to_file(export_path + 'dvf_concat_2021_to_2023.geojson', index=False, driver=\"GeoJSON\")\n",
    "    "
   ]
  },
  {
   "cell_type": "code",
   "execution_count": 213,
   "id": "7b6be74f-072b-4b43-a42b-baed9f8ef90f",
   "metadata": {},
   "outputs": [
    {
     "name": "stdout",
     "output_type": "stream",
     "text": [
      "Dataframe for 2018 exported to: 1.2) Données_concat/dvf_concat_2018.geojson\n",
      "Dataframe for 2019 exported to: 1.2) Données_concat/dvf_concat_2019.geojson\n",
      "Dataframe for 2020 exported to: 1.2) Données_concat/dvf_concat_2020.geojson\n",
      "Dataframe for 2021 exported to: 1.2) Données_concat/dvf_concat_2021.geojson\n",
      "Dataframe for 2022 exported to: 1.2) Données_concat/dvf_concat_2022.geojson\n",
      "Dataframe for 2023 exported to: 1.2) Données_concat/dvf_concat_2023.geojson\n"
     ]
    }
   ],
   "source": [
    "# Appelez la fonction pour créer et exporter les dataframes\n",
    "create_and_export_dataframes(dvf_concat)"
   ]
  }
 ],
 "metadata": {
  "kernelspec": {
   "display_name": "Python 3 (ipykernel)",
   "language": "python",
   "name": "python3"
  },
  "language_info": {
   "codemirror_mode": {
    "name": "ipython",
    "version": 3
   },
   "file_extension": ".py",
   "mimetype": "text/x-python",
   "name": "python",
   "nbconvert_exporter": "python",
   "pygments_lexer": "ipython3",
   "version": "3.10.13"
  }
 },
 "nbformat": 4,
 "nbformat_minor": 5
}
